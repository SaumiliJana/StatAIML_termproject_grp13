{
 "cells": [
  {
   "cell_type": "code",
   "execution_count": 1,
   "metadata": {},
   "outputs": [
    {
     "name": "stderr",
     "output_type": "stream",
     "text": [
      "2024-11-27 17:59:14.625563: I tensorflow/tsl/cuda/cudart_stub.cc:28] Could not find cuda drivers on your machine, GPU will not be used.\n",
      "2024-11-27 17:59:14.650790: E tensorflow/compiler/xla/stream_executor/cuda/cuda_dnn.cc:9342] Unable to register cuDNN factory: Attempting to register factory for plugin cuDNN when one has already been registered\n",
      "2024-11-27 17:59:14.650821: E tensorflow/compiler/xla/stream_executor/cuda/cuda_fft.cc:609] Unable to register cuFFT factory: Attempting to register factory for plugin cuFFT when one has already been registered\n",
      "2024-11-27 17:59:14.650833: E tensorflow/compiler/xla/stream_executor/cuda/cuda_blas.cc:1518] Unable to register cuBLAS factory: Attempting to register factory for plugin cuBLAS when one has already been registered\n",
      "2024-11-27 17:59:14.656216: I tensorflow/tsl/cuda/cudart_stub.cc:28] Could not find cuda drivers on your machine, GPU will not be used.\n",
      "2024-11-27 17:59:14.656985: I tensorflow/core/platform/cpu_feature_guard.cc:182] This TensorFlow binary is optimized to use available CPU instructions in performance-critical operations.\n",
      "To enable the following instructions: AVX2 FMA, in other operations, rebuild TensorFlow with the appropriate compiler flags.\n",
      "2024-11-27 17:59:15.511130: W tensorflow/compiler/tf2tensorrt/utils/py_utils.cc:38] TF-TRT Warning: Could not find TensorRT\n"
     ]
    },
    {
     "name": "stdout",
     "output_type": "stream",
     "text": [
      "WARNING:tensorflow:From /home/saumilijana/anaconda3/lib/python3.11/site-packages/tensorflow/python/compat/v2_compat.py:108: disable_resource_variables (from tensorflow.python.ops.variable_scope) is deprecated and will be removed in a future version.\n",
      "Instructions for updating:\n",
      "non-resource variables are not supported in the long term\n"
     ]
    }
   ],
   "source": [
    "#import necessary libraries\n",
    "import keras\n",
    "from keras import backend as K\n",
    "from keras.models import Sequential\n",
    "from keras.layers import Dense\n",
    "import tensorflow as tf\n",
    "import tensorflow.compat.v1 as tf #ensure no tf version compatibility issues\n",
    "tf.disable_v2_behavior() \n",
    "tf.compat.v1.enable_eager_execution()\n",
    "import matplotlib.pyplot as plt\n",
    "import numpy as np\n",
    "from matplotlib.colors import ListedColormap"
   ]
  },
  {
   "cell_type": "code",
   "execution_count": 13,
   "metadata": {},
   "outputs": [],
   "source": [
    "#import California dataset\n",
    "from sklearn.datasets import fetch_california_housing\n",
    "from sklearn.model_selection import train_test_split\n",
    "from sklearn.preprocessing import StandardScaler"
   ]
  },
  {
   "cell_type": "code",
   "execution_count": 14,
   "metadata": {},
   "outputs": [
    {
     "name": "stdout",
     "output_type": "stream",
     "text": [
      "(16512, 8)\n",
      "16512\n"
     ]
    }
   ],
   "source": [
    "# Load the California Housing dataset\n",
    "data = fetch_california_housing()\n",
    "X = data.data\n",
    "y = data.target.reshape(-1, 1)\n",
    "# Train-test split\n",
    "X_train, X_test, y_train, y_test = train_test_split(X, y, test_size=0.2, random_state=42)\n",
    "\n",
    "# Standardize the dataset\n",
    "scaler_X = StandardScaler()\n",
    "scaler_y = StandardScaler()\n",
    "\n",
    "X_train = scaler_X.fit_transform(X_train)\n",
    "X_test = scaler_X.transform(X_test)\n",
    "y_train = scaler_y.fit_transform(y_train)\n",
    "y_test = scaler_y.transform(y_test)\n",
    "\n",
    "print(X_train.shape) #debugging\n",
    "print(len(X_train))"
   ]
  },
  {
   "cell_type": "code",
   "execution_count": 23,
   "metadata": {},
   "outputs": [],
   "source": [
    "# NN parameters\n",
    "n_ensemble = 10\t# no. of NNs in ensemble\n",
    "reg = 'anc'\t\t# type of regularisation to use - anc (anchoring) reg (regularised) free (unconstrained)\n",
    "n_hidden = 50 \t# no. hidden units in NN\n",
    "activation_in = 'relu' # tanh relu sigmoid\n",
    "data_noise = 0.001 # estimated noise variance\n",
    "n_data = len(X_train) #total no of points in training dataset\n",
    "n_features = X_train.shape[1] #no of features\n",
    "#print(n_features)#Debugging\n",
    " \n",
    "# optimisation options\n",
    "epochs = 75\t\t# run reg for 15+ epochs seems to mess them up\n",
    "l_rate = 0.001 \t\t# learning rate\n",
    "\n",
    "# variance of priors\n",
    "W1_var = 20/1\t\t# 1st layer weights and biases\n",
    "W_mid_var = 1/n_hidden\t# 2nd layer weights and biases\n",
    "W_last_var = 1/n_hidden\t# 3rd layer weights"
   ]
  },
  {
   "cell_type": "code",
   "execution_count": 24,
   "metadata": {},
   "outputs": [],
   "source": [
    "#Creating Neural Networks\n",
    "# NN object-3layers\n",
    "def fn_make_NN(reg='anc', activation_in='relu'):\n",
    "\n",
    "\t# get initialisations, and regularisation values\n",
    "\tW1_lambda = data_noise/W1_var\n",
    "\tW1_anc = np.random.normal(loc=0,scale=np.sqrt(W1_var),size=[n_features,n_hidden])\n",
    "\tW1_init = np.random.normal(loc=0,scale=np.sqrt(W1_var),size=[n_features,n_hidden])\n",
    "\n",
    "\tb1_var = W1_var\n",
    "\tb1_lambda =  data_noise/b1_var\n",
    "\tb1_anc = np.random.normal(loc=0,scale=np.sqrt(b1_var),size=[n_hidden])\n",
    "\tb1_init = np.random.normal(loc=0,scale=np.sqrt(b1_var),size=[n_hidden])\n",
    "\n",
    "\tW_mid_lambda = data_noise/W_mid_var\n",
    "\tW_mid_anc = np.random.normal(loc=0,scale=np.sqrt(W_mid_var),size=[n_hidden,n_hidden])\n",
    "\tW_mid_init = np.random.normal(loc=0,scale=np.sqrt(W_mid_var),size=[n_hidden,n_hidden])\n",
    "\n",
    "\tb_mid_var = W_mid_var\n",
    "\tb_mid_lambda =  data_noise/b_mid_var\n",
    "\tb_mid_anc = np.random.normal(loc=0,scale=np.sqrt(b_mid_var),size=[n_hidden])\n",
    "\tb_mid_init = np.random.normal(loc=0,scale=np.sqrt(b_mid_var),size=[n_hidden])\n",
    "    \n",
    "\tW_last_lambda = data_noise/W_last_var\n",
    "\tW_last_anc = np.random.normal(loc=0,scale=np.sqrt(W_last_var),size=[n_hidden, 1])\n",
    "\tW_last_init = np.random.normal(loc=0,scale=np.sqrt(W_last_var),size=[n_hidden, 1])\n",
    "\n",
    "\t# create custom regularised\n",
    "\tdef custom_reg_W1(weight_matrix):\n",
    "\t\tif reg == 'reg':\n",
    "\t\t\treturn K.sum(K.square(weight_matrix)) * W1_lambda/n_data\n",
    "\t\telif reg == 'free':\n",
    "\t\t\treturn 0.\n",
    "\t\telif reg == 'anc':\n",
    "\t\t\treturn K.sum(K.square(weight_matrix - W1_anc)) * W1_lambda/n_data\n",
    "\n",
    "\tdef custom_reg_b1(weight_matrix):\n",
    "\t\tif reg == 'reg':\n",
    "\t\t\treturn K.sum(K.square(weight_matrix)) * b1_lambda/n_data\n",
    "\t\telif reg == 'free':\n",
    "\t\t\treturn 0.\n",
    "\t\telif reg == 'anc':\n",
    "\t\t\treturn K.sum(K.square(weight_matrix - b1_anc)) * b1_lambda/n_data\n",
    "\n",
    "\tdef custom_reg_W_mid(weight_matrix):\n",
    "\t\tif reg == 'reg':\n",
    "\t\t\treturn K.sum(K.square(weight_matrix)) * W_mid_lambda/n_data\n",
    "\t\telif reg == 'free':\n",
    "\t\t\treturn 0.\n",
    "\t\telif reg == 'anc':\n",
    "\t\t\treturn K.sum(K.square(weight_matrix - W_mid_anc)) * W_mid_lambda/n_data\n",
    "\n",
    "\tdef custom_reg_b_mid(weight_matrix):\n",
    "\t\tif reg == 'reg':\n",
    "\t\t\treturn K.sum(K.square(weight_matrix)) * b_mid_lambda/n_data\n",
    "\t\telif reg == 'free':\n",
    "\t\t\treturn 0.\n",
    "\t\telif reg == 'anc':\n",
    "\t\t\treturn K.sum(K.square(weight_matrix - b_mid_anc)) * b_mid_lambda/n_data\n",
    "\n",
    "\tdef custom_reg_W_last(weight_matrix):\n",
    "\t\tif reg == 'reg':\n",
    "\t\t\treturn K.sum(K.square(weight_matrix)) * W_last_lambda/n_data\n",
    "\t\telif reg == 'free':\n",
    "\t\t\treturn 0.\n",
    "\t\telif reg == 'anc':\n",
    "\t\t\treturn K.sum(K.square(weight_matrix - W_last_anc)) * W_last_lambda/n_data\n",
    "\n",
    "\tmodel = Sequential()\n",
    "\tmodel.add(Dense(n_hidden, activation=activation_in, input_shape=(n_features,),\n",
    "\t\tkernel_initializer=keras.initializers.Constant(value=W1_init),\n",
    "\t\tbias_initializer=keras.initializers.Constant(value=b1_init),\n",
    "\t\tkernel_regularizer=custom_reg_W1,\n",
    "\t\tbias_regularizer=custom_reg_b1))\n",
    "\n",
    "\tmodel.add(Dense(n_hidden, activation=activation_in,\n",
    "\t\tkernel_initializer=keras.initializers.Constant(value=W_mid_init),\n",
    "\t\tbias_initializer=keras.initializers.Constant(value=b_mid_init),\n",
    "\t\tkernel_regularizer=custom_reg_W_mid,\n",
    "\t\tbias_regularizer=custom_reg_b_mid))\n",
    "\n",
    "\tmodel.add(Dense(1, activation='linear',use_bias=False,\n",
    "\t\tkernel_initializer=keras.initializers.Constant(value=W_last_init),\n",
    "\t\tkernel_regularizer=custom_reg_W_last))\n",
    "\n",
    "\tmodel.compile(loss='mean_squared_error', \n",
    "\t\toptimizer=keras.optimizers.Adam(learning_rate=l_rate))\n",
    "\n",
    "\treturn model\n",
    "\n",
    "\n",
    "def fn_predict_ensemble(NNs, x_test):\n",
    "\t''' fn to predict given a list of NNs (an ensemble)''' \n",
    "\ty_preds = []\n",
    "\tfor m in range(len(NNs)):\n",
    "\t\ty_preds.append(NNs[m].predict(x_test, verbose=0))\n",
    "\ty_preds = np.array(y_preds)\n",
    "\n",
    "\ty_preds_mu = np.mean(y_preds,axis=0)\n",
    "\ty_preds_std = np.std(y_preds,axis=0)\n",
    "\n",
    "\treturn y_preds, y_preds_mu, y_preds_std"
   ]
  },
  {
   "cell_type": "code",
   "execution_count": 25,
   "metadata": {},
   "outputs": [],
   "source": [
    "# NN object-increase depth1\n",
    "def fn_make_NNd1(reg='anc', activation_in='relu'):\n",
    "\n",
    "\t# get initialisations, and regularisation values\n",
    "\tW1_lambda = data_noise/W1_var\n",
    "\tW1_anc = np.random.normal(loc=0,scale=np.sqrt(W1_var),size=[n_features,n_hidden])\n",
    "\tW1_init = np.random.normal(loc=0,scale=np.sqrt(W1_var),size=[n_features,n_hidden])\n",
    "\n",
    "\tb1_var = W1_var\n",
    "\tb1_lambda =  data_noise/b1_var\n",
    "\tb1_anc = np.random.normal(loc=0,scale=np.sqrt(b1_var),size=[n_hidden])\n",
    "\tb1_init = np.random.normal(loc=0,scale=np.sqrt(b1_var),size=[n_hidden])\n",
    "\n",
    "\tW_mid_lambda = data_noise/W_mid_var\n",
    "\tW_mid_anc = np.random.normal(loc=0,scale=np.sqrt(W_mid_var),size=[n_hidden,n_hidden])\n",
    "\tW_mid_init = np.random.normal(loc=0,scale=np.sqrt(W_mid_var),size=[n_hidden,n_hidden])\n",
    "\n",
    "\tb_mid_var = W_mid_var\n",
    "\tb_mid_lambda =  data_noise/b_mid_var\n",
    "\tb_mid_anc = np.random.normal(loc=0,scale=np.sqrt(b_mid_var),size=[n_hidden])\n",
    "\tb_mid_init = np.random.normal(loc=0,scale=np.sqrt(b_mid_var),size=[n_hidden])\n",
    "    \n",
    "\tW_last_lambda = data_noise/W_last_var\n",
    "\tW_last_anc = np.random.normal(loc=0,scale=np.sqrt(W_last_var),size=[n_hidden, 1])\n",
    "\tW_last_init = np.random.normal(loc=0,scale=np.sqrt(W_last_var),size=[n_hidden, 1])\n",
    "\n",
    "\t# create custom regularised\n",
    "\tdef custom_reg_W1(weight_matrix):\n",
    "\t\tif reg == 'reg':\n",
    "\t\t\treturn K.sum(K.square(weight_matrix)) * W1_lambda/n_data\n",
    "\t\telif reg == 'free':\n",
    "\t\t\treturn 0.\n",
    "\t\telif reg == 'anc':\n",
    "\t\t\treturn K.sum(K.square(weight_matrix - W1_anc)) * W1_lambda/n_data\n",
    "\n",
    "\tdef custom_reg_b1(weight_matrix):\n",
    "\t\tif reg == 'reg':\n",
    "\t\t\treturn K.sum(K.square(weight_matrix)) * b1_lambda/n_data\n",
    "\t\telif reg == 'free':\n",
    "\t\t\treturn 0.\n",
    "\t\telif reg == 'anc':\n",
    "\t\t\treturn K.sum(K.square(weight_matrix - b1_anc)) * b1_lambda/n_data\n",
    "\n",
    "\tdef custom_reg_W_mid(weight_matrix):\n",
    "\t\tif reg == 'reg':\n",
    "\t\t\treturn K.sum(K.square(weight_matrix)) * W_mid_lambda/n_data\n",
    "\t\telif reg == 'free':\n",
    "\t\t\treturn 0.\n",
    "\t\telif reg == 'anc':\n",
    "\t\t\treturn K.sum(K.square(weight_matrix - W_mid_anc)) * W_mid_lambda/n_data\n",
    "\n",
    "\tdef custom_reg_b_mid(weight_matrix):\n",
    "\t\tif reg == 'reg':\n",
    "\t\t\treturn K.sum(K.square(weight_matrix)) * b_mid_lambda/n_data\n",
    "\t\telif reg == 'free':\n",
    "\t\t\treturn 0.\n",
    "\t\telif reg == 'anc':\n",
    "\t\t\treturn K.sum(K.square(weight_matrix - b_mid_anc)) * b_mid_lambda/n_data\n",
    "\n",
    "\tdef custom_reg_W_last(weight_matrix):\n",
    "\t\tif reg == 'reg':\n",
    "\t\t\treturn K.sum(K.square(weight_matrix)) * W_last_lambda/n_data\n",
    "\t\telif reg == 'free':\n",
    "\t\t\treturn 0.\n",
    "\t\telif reg == 'anc':\n",
    "\t\t\treturn K.sum(K.square(weight_matrix - W_last_anc)) * W_last_lambda/n_data\n",
    "\n",
    "\tmodel = Sequential()\n",
    "\tmodel.add(Dense(n_hidden, activation=activation_in, input_shape=(n_features,),\n",
    "\t\tkernel_initializer=keras.initializers.Constant(value=W1_init),\n",
    "\t\tbias_initializer=keras.initializers.Constant(value=b1_init),\n",
    "\t\tkernel_regularizer=custom_reg_W1,\n",
    "\t\tbias_regularizer=custom_reg_b1))\n",
    "\n",
    "\tmodel.add(Dense(n_hidden, activation=activation_in,\n",
    "\t\tkernel_initializer=keras.initializers.Constant(value=W_mid_init),\n",
    "\t\tbias_initializer=keras.initializers.Constant(value=b_mid_init),\n",
    "\t\tkernel_regularizer=custom_reg_W_mid,\n",
    "\t\tbias_regularizer=custom_reg_b_mid))\n",
    "\t\n",
    "\tmodel.add(Dense(n_hidden, activation=activation_in,\n",
    "\t\tkernel_initializer=keras.initializers.Constant(value=W_mid_init),\n",
    "\t\tbias_initializer=keras.initializers.Constant(value=b_mid_init),\n",
    "\t\tkernel_regularizer=custom_reg_W_mid,\n",
    "\t\tbias_regularizer=custom_reg_b_mid))\n",
    "\t\n",
    "\tmodel.add(Dense(n_hidden, activation=activation_in,\n",
    "\t\tkernel_initializer=keras.initializers.Constant(value=W_mid_init),\n",
    "\t\tbias_initializer=keras.initializers.Constant(value=b_mid_init),\n",
    "\t\tkernel_regularizer=custom_reg_W_mid,\n",
    "\t\tbias_regularizer=custom_reg_b_mid))\n",
    "\t\n",
    "\tmodel.add(Dense(n_hidden, activation=activation_in,\n",
    "\t\tkernel_initializer=keras.initializers.Constant(value=W_mid_init),\n",
    "\t\tbias_initializer=keras.initializers.Constant(value=b_mid_init),\n",
    "\t\tkernel_regularizer=custom_reg_W_mid,\n",
    "\t\tbias_regularizer=custom_reg_b_mid))\n",
    "\t\n",
    "\tmodel.add(Dense(n_hidden, activation=activation_in,\n",
    "\t\tkernel_initializer=keras.initializers.Constant(value=W_mid_init),\n",
    "\t\tbias_initializer=keras.initializers.Constant(value=b_mid_init),\n",
    "\t\tkernel_regularizer=custom_reg_W_mid,\n",
    "\t\tbias_regularizer=custom_reg_b_mid))\n",
    "\t\n",
    "\tmodel.add(Dense(1, activation='linear',use_bias=False,\n",
    "\t\tkernel_initializer=keras.initializers.Constant(value=W_last_init),\n",
    "\t\tkernel_regularizer=custom_reg_W_last))\n",
    "\n",
    "\tmodel.compile(loss='mean_squared_error', \n",
    "\t\toptimizer=keras.optimizers.Adam(learning_rate=l_rate))\n",
    "\n",
    "\treturn model\n"
   ]
  },
  {
   "cell_type": "code",
   "execution_count": 58,
   "metadata": {},
   "outputs": [],
   "source": [
    "# NN object-increase depth2-intermediate\n",
    "def fn_make_NNd2(reg='anc', activation_in='relu'):\n",
    "\n",
    "\t# get initialisations, and regularisation values\n",
    "\tW1_lambda = data_noise/W1_var\n",
    "\tW1_anc = np.random.normal(loc=0,scale=np.sqrt(W1_var),size=[n_features,n_hidden])\n",
    "\tW1_init = np.random.normal(loc=0,scale=np.sqrt(W1_var),size=[n_features,n_hidden])\n",
    "\n",
    "\tb1_var = W1_var\n",
    "\tb1_lambda =  data_noise/b1_var\n",
    "\tb1_anc = np.random.normal(loc=0,scale=np.sqrt(b1_var),size=[n_hidden])\n",
    "\tb1_init = np.random.normal(loc=0,scale=np.sqrt(b1_var),size=[n_hidden])\n",
    "\n",
    "\tW_mid_lambda = data_noise/W_mid_var\n",
    "\tW_mid_anc = np.random.normal(loc=0,scale=np.sqrt(W_mid_var),size=[n_hidden,n_hidden])\n",
    "\tW_mid_init = np.random.normal(loc=0,scale=np.sqrt(W_mid_var),size=[n_hidden,n_hidden])\n",
    "\n",
    "\tb_mid_var = W_mid_var\n",
    "\tb_mid_lambda =  data_noise/b_mid_var\n",
    "\tb_mid_anc = np.random.normal(loc=0,scale=np.sqrt(b_mid_var),size=[n_hidden])\n",
    "\tb_mid_init = np.random.normal(loc=0,scale=np.sqrt(b_mid_var),size=[n_hidden])\n",
    "    \n",
    "\tW_last_lambda = data_noise/W_last_var\n",
    "\tW_last_anc = np.random.normal(loc=0,scale=np.sqrt(W_last_var),size=[n_hidden, 1])\n",
    "\tW_last_init = np.random.normal(loc=0,scale=np.sqrt(W_last_var),size=[n_hidden, 1])\n",
    "\n",
    "\t# create custom regularised\n",
    "\tdef custom_reg_W1(weight_matrix):\n",
    "\t\tif reg == 'reg':\n",
    "\t\t\treturn K.sum(K.square(weight_matrix)) * W1_lambda/n_data\n",
    "\t\telif reg == 'free':\n",
    "\t\t\treturn 0.\n",
    "\t\telif reg == 'anc':\n",
    "\t\t\treturn K.sum(K.square(weight_matrix - W1_anc)) * W1_lambda/n_data\n",
    "\n",
    "\tdef custom_reg_b1(weight_matrix):\n",
    "\t\tif reg == 'reg':\n",
    "\t\t\treturn K.sum(K.square(weight_matrix)) * b1_lambda/n_data\n",
    "\t\telif reg == 'free':\n",
    "\t\t\treturn 0.\n",
    "\t\telif reg == 'anc':\n",
    "\t\t\treturn K.sum(K.square(weight_matrix - b1_anc)) * b1_lambda/n_data\n",
    "\n",
    "\tdef custom_reg_W_mid(weight_matrix):\n",
    "\t\tif reg == 'reg':\n",
    "\t\t\treturn K.sum(K.square(weight_matrix)) * W_mid_lambda/n_data\n",
    "\t\telif reg == 'free':\n",
    "\t\t\treturn 0.\n",
    "\t\telif reg == 'anc':\n",
    "\t\t\treturn K.sum(K.square(weight_matrix - W_mid_anc)) * W_mid_lambda/n_data\n",
    "\n",
    "\tdef custom_reg_b_mid(weight_matrix):\n",
    "\t\tif reg == 'reg':\n",
    "\t\t\treturn K.sum(K.square(weight_matrix)) * b_mid_lambda/n_data\n",
    "\t\telif reg == 'free':\n",
    "\t\t\treturn 0.\n",
    "\t\telif reg == 'anc':\n",
    "\t\t\treturn K.sum(K.square(weight_matrix - b_mid_anc)) * b_mid_lambda/n_data\n",
    "\n",
    "\tdef custom_reg_W_last(weight_matrix):\n",
    "\t\tif reg == 'reg':\n",
    "\t\t\treturn K.sum(K.square(weight_matrix)) * W_last_lambda/n_data\n",
    "\t\telif reg == 'free':\n",
    "\t\t\treturn 0.\n",
    "\t\telif reg == 'anc':\n",
    "\t\t\treturn K.sum(K.square(weight_matrix - W_last_anc)) * W_last_lambda/n_data\n",
    "\n",
    "\tmodel = Sequential()\n",
    "\tmodel.add(Dense(n_hidden, activation=activation_in, input_shape=(n_features,),\n",
    "\t\tkernel_initializer=keras.initializers.Constant(value=W1_init),\n",
    "\t\tbias_initializer=keras.initializers.Constant(value=b1_init),\n",
    "\t\tkernel_regularizer=custom_reg_W1,\n",
    "\t\tbias_regularizer=custom_reg_b1))\n",
    "\t\n",
    "\tmodel.add(Dense(n_hidden, activation=activation_in,\n",
    "\t\tkernel_initializer=keras.initializers.Constant(value=W_mid_init),\n",
    "\t\tbias_initializer=keras.initializers.Constant(value=b_mid_init),\n",
    "\t\tkernel_regularizer=custom_reg_W_mid,\n",
    "\t\tbias_regularizer=custom_reg_b_mid))\n",
    "\t\n",
    "\tmodel.add(Dense(n_hidden, activation=activation_in,\n",
    "\t\tkernel_initializer=keras.initializers.Constant(value=W_mid_init),\n",
    "\t\tbias_initializer=keras.initializers.Constant(value=b_mid_init),\n",
    "\t\tkernel_regularizer=custom_reg_W_mid,\n",
    "\t\tbias_regularizer=custom_reg_b_mid))\n",
    "\t\n",
    "\tmodel.add(Dense(n_hidden, activation=activation_in,\n",
    "\t\tkernel_initializer=keras.initializers.Constant(value=W_mid_init),\n",
    "\t\tbias_initializer=keras.initializers.Constant(value=b_mid_init),\n",
    "\t\tkernel_regularizer=custom_reg_W_mid,\n",
    "\t\tbias_regularizer=custom_reg_b_mid))\n",
    "\t\n",
    "\tmodel.add(Dense(1, activation='linear',use_bias=False,\n",
    "\t\tkernel_initializer=keras.initializers.Constant(value=W_last_init),\n",
    "\t\tkernel_regularizer=custom_reg_W_last))\n",
    "\n",
    "\tmodel.compile(loss='mean_squared_error', \n",
    "\t\toptimizer=keras.optimizers.Adam(learning_rate=l_rate))\n",
    "\n",
    "\treturn model\n"
   ]
  },
  {
   "cell_type": "code",
   "execution_count": 65,
   "metadata": {},
   "outputs": [],
   "source": [
    "# NN object-increase depth3-intermediate\n",
    "def fn_make_NNd3(reg='anc', activation_in='relu'):\n",
    "\n",
    "\t# get initialisations, and regularisation values\n",
    "\tW1_lambda = data_noise/W1_var\n",
    "\tW1_anc = np.random.normal(loc=0,scale=np.sqrt(W1_var),size=[n_features,n_hidden])\n",
    "\tW1_init = np.random.normal(loc=0,scale=np.sqrt(W1_var),size=[n_features,n_hidden])\n",
    "\n",
    "\tb1_var = W1_var\n",
    "\tb1_lambda =  data_noise/b1_var\n",
    "\tb1_anc = np.random.normal(loc=0,scale=np.sqrt(b1_var),size=[n_hidden])\n",
    "\tb1_init = np.random.normal(loc=0,scale=np.sqrt(b1_var),size=[n_hidden])\n",
    "\n",
    "\tW_mid_lambda = data_noise/W_mid_var\n",
    "\tW_mid_anc = np.random.normal(loc=0,scale=np.sqrt(W_mid_var),size=[n_hidden,n_hidden])\n",
    "\tW_mid_init = np.random.normal(loc=0,scale=np.sqrt(W_mid_var),size=[n_hidden,n_hidden])\n",
    "\n",
    "\tb_mid_var = W_mid_var\n",
    "\tb_mid_lambda =  data_noise/b_mid_var\n",
    "\tb_mid_anc = np.random.normal(loc=0,scale=np.sqrt(b_mid_var),size=[n_hidden])\n",
    "\tb_mid_init = np.random.normal(loc=0,scale=np.sqrt(b_mid_var),size=[n_hidden])\n",
    "    \n",
    "\tW_last_lambda = data_noise/W_last_var\n",
    "\tW_last_anc = np.random.normal(loc=0,scale=np.sqrt(W_last_var),size=[n_hidden, 1])\n",
    "\tW_last_init = np.random.normal(loc=0,scale=np.sqrt(W_last_var),size=[n_hidden, 1])\n",
    "\n",
    "\t# create custom regularised\n",
    "\tdef custom_reg_W1(weight_matrix):\n",
    "\t\tif reg == 'reg':\n",
    "\t\t\treturn K.sum(K.square(weight_matrix)) * W1_lambda/n_data\n",
    "\t\telif reg == 'free':\n",
    "\t\t\treturn 0.\n",
    "\t\telif reg == 'anc':\n",
    "\t\t\treturn K.sum(K.square(weight_matrix - W1_anc)) * W1_lambda/n_data\n",
    "\n",
    "\tdef custom_reg_b1(weight_matrix):\n",
    "\t\tif reg == 'reg':\n",
    "\t\t\treturn K.sum(K.square(weight_matrix)) * b1_lambda/n_data\n",
    "\t\telif reg == 'free':\n",
    "\t\t\treturn 0.\n",
    "\t\telif reg == 'anc':\n",
    "\t\t\treturn K.sum(K.square(weight_matrix - b1_anc)) * b1_lambda/n_data\n",
    "\n",
    "\tdef custom_reg_W_mid(weight_matrix):\n",
    "\t\tif reg == 'reg':\n",
    "\t\t\treturn K.sum(K.square(weight_matrix)) * W_mid_lambda/n_data\n",
    "\t\telif reg == 'free':\n",
    "\t\t\treturn 0.\n",
    "\t\telif reg == 'anc':\n",
    "\t\t\treturn K.sum(K.square(weight_matrix - W_mid_anc)) * W_mid_lambda/n_data\n",
    "\n",
    "\tdef custom_reg_b_mid(weight_matrix):\n",
    "\t\tif reg == 'reg':\n",
    "\t\t\treturn K.sum(K.square(weight_matrix)) * b_mid_lambda/n_data\n",
    "\t\telif reg == 'free':\n",
    "\t\t\treturn 0.\n",
    "\t\telif reg == 'anc':\n",
    "\t\t\treturn K.sum(K.square(weight_matrix - b_mid_anc)) * b_mid_lambda/n_data\n",
    "\n",
    "\tdef custom_reg_W_last(weight_matrix):\n",
    "\t\tif reg == 'reg':\n",
    "\t\t\treturn K.sum(K.square(weight_matrix)) * W_last_lambda/n_data\n",
    "\t\telif reg == 'free':\n",
    "\t\t\treturn 0.\n",
    "\t\telif reg == 'anc':\n",
    "\t\t\treturn K.sum(K.square(weight_matrix - W_last_anc)) * W_last_lambda/n_data\n",
    "\n",
    "\tmodel = Sequential()\n",
    "\tmodel.add(Dense(n_hidden, activation=activation_in, input_shape=(n_features,),\n",
    "\t\tkernel_initializer=keras.initializers.Constant(value=W1_init),\n",
    "\t\tbias_initializer=keras.initializers.Constant(value=b1_init),\n",
    "\t\tkernel_regularizer=custom_reg_W1,\n",
    "\t\tbias_regularizer=custom_reg_b1))\n",
    "\t\n",
    "\tmodel.add(Dense(n_hidden, activation=activation_in,\n",
    "\t\tkernel_initializer=keras.initializers.Constant(value=W_mid_init),\n",
    "\t\tbias_initializer=keras.initializers.Constant(value=b_mid_init),\n",
    "\t\tkernel_regularizer=custom_reg_W_mid,\n",
    "\t\tbias_regularizer=custom_reg_b_mid))\n",
    "\t\n",
    "\tmodel.add(Dense(n_hidden, activation=activation_in,\n",
    "\t\tkernel_initializer=keras.initializers.Constant(value=W_mid_init),\n",
    "\t\tbias_initializer=keras.initializers.Constant(value=b_mid_init),\n",
    "\t\tkernel_regularizer=custom_reg_W_mid,\n",
    "\t\tbias_regularizer=custom_reg_b_mid))\n",
    "\t\n",
    "\tmodel.add(Dense(1, activation='linear',use_bias=False,\n",
    "\t\tkernel_initializer=keras.initializers.Constant(value=W_last_init),\n",
    "\t\tkernel_regularizer=custom_reg_W_last))\n",
    "\n",
    "\tmodel.compile(loss='mean_squared_error', \n",
    "\t\toptimizer=keras.optimizers.Adam(learning_rate=l_rate))\n",
    "\n",
    "\treturn model"
   ]
  },
  {
   "cell_type": "code",
   "execution_count": 26,
   "metadata": {},
   "outputs": [
    {
     "name": "stdout",
     "output_type": "stream",
     "text": [
      "Model: \"sequential_39\"\n",
      "_________________________________________________________________\n",
      " Layer (type)                Output Shape              Param #   \n",
      "=================================================================\n",
      " dense_117 (Dense)           (None, 50)                450       \n",
      "                                                                 \n",
      " dense_118 (Dense)           (None, 50)                2550      \n",
      "                                                                 \n",
      " dense_119 (Dense)           (None, 1)                 50        \n",
      "                                                                 \n",
      "=================================================================\n",
      "Total params: 3050 (11.91 KB)\n",
      "Trainable params: 3050 (11.91 KB)\n",
      "Non-trainable params: 0 (0.00 Byte)\n",
      "_________________________________________________________________\n",
      "None\n"
     ]
    }
   ],
   "source": [
    "# create the NNs\n",
    "NNs=[]\n",
    "for m in range(n_ensemble):\n",
    "\tNNs.append(fn_make_NN(reg=reg, activation_in=activation_in))\n",
    "print(NNs[-1].summary())"
   ]
  },
  {
   "cell_type": "code",
   "execution_count": 27,
   "metadata": {},
   "outputs": [
    {
     "name": "stdout",
     "output_type": "stream",
     "text": [
      "-- training: 1 of 10 NNs --\n",
      "-- training: 2 of 10 NNs --\n",
      "-- training: 3 of 10 NNs --\n",
      "-- training: 4 of 10 NNs --\n",
      "-- training: 5 of 10 NNs --\n",
      "-- training: 6 of 10 NNs --\n",
      "-- training: 7 of 10 NNs --\n",
      "-- training: 8 of 10 NNs --\n",
      "-- training: 9 of 10 NNs --\n",
      "-- training: 10 of 10 NNs --\n"
     ]
    }
   ],
   "source": [
    "# do training\n",
    "NNs_hist_train=[];\n",
    "for m in range(n_ensemble):\n",
    "\tprint('-- training: ' + str(m+1) + ' of ' + str(n_ensemble) + ' NNs --')\n",
    "\thist = NNs[m].fit(X_train, y_train,\n",
    "\t\t\t  #batch_size=n_data,\n",
    "\t\t\t  epochs=epochs,\n",
    "\t\t\t  verbose=0)\n",
    "\tNNs_hist_train.append(hist.history['loss'])"
   ]
  },
  {
   "cell_type": "code",
   "execution_count": 28,
   "metadata": {},
   "outputs": [
    {
     "name": "stderr",
     "output_type": "stream",
     "text": [
      "/tmp/ipykernel_88563/75724911.py:8: UserWarning: Matplotlib is currently using module://matplotlib_inline.backend_inline, which is a non-GUI backend, so cannot show the figure.\n",
      "  fig.show()\n"
     ]
    },
    {
     "data": {
      "image/png": "[encoded data removed]",
      "text/plain": [
       "<Figure size 400x300 with 1 Axes>"
      ]
     },
     "metadata": {},
     "output_type": "display_data"
    }
   ],
   "source": [
    "# check how training looked\n",
    "NNs_hist_train=np.array(NNs_hist_train)\n",
    "fig = plt.figure(figsize=(4, 3))\n",
    "ax = fig.add_subplot(111)\n",
    "COLORNUM = colors = plt.cm.plasma(np.linspace(0, 1, n_ensemble))\n",
    "for m in range(n_ensemble):\n",
    "    ax.plot(NNs_hist_train[m], color=COLORNUM[m],label='train')\n",
    "fig.show()"
   ]
  },
  {
   "cell_type": "code",
   "execution_count": 32,
   "metadata": {},
   "outputs": [
    {
     "name": "stdout",
     "output_type": "stream",
     "text": [
      "(10, 4128, 1)\n"
     ]
    }
   ],
   "source": [
    "# run predictions\n",
    "y_preds1, y_preds_mu1, y_preds_std1 = fn_predict_ensemble(NNs,X_test)\n",
    "#print(y_preds1.shape)#debug"
   ]
  },
  {
   "cell_type": "code",
   "execution_count": 36,
   "metadata": {},
   "outputs": [
    {
     "name": "stdout",
     "output_type": "stream",
     "text": [
      "Model: \"sequential_49\"\n",
      "_________________________________________________________________\n",
      " Layer (type)                Output Shape              Param #   \n",
      "=================================================================\n",
      " dense_183 (Dense)           (None, 50)                450       \n",
      "                                                                 \n",
      " dense_184 (Dense)           (None, 50)                2550      \n",
      "                                                                 \n",
      " dense_185 (Dense)           (None, 50)                2550      \n",
      "                                                                 \n",
      " dense_186 (Dense)           (None, 50)                2550      \n",
      "                                                                 \n",
      " dense_187 (Dense)           (None, 50)                2550      \n",
      "                                                                 \n",
      " dense_188 (Dense)           (None, 50)                2550      \n",
      "                                                                 \n",
      " dense_189 (Dense)           (None, 1)                 50        \n",
      "                                                                 \n",
      "=================================================================\n",
      "Total params: 13250 (51.76 KB)\n",
      "Trainable params: 13250 (51.76 KB)\n",
      "Non-trainable params: 0 (0.00 Byte)\n",
      "_________________________________________________________________\n",
      "None\n"
     ]
    }
   ],
   "source": [
    "# create the NNs- increased depth\n",
    "NNs_deep=[]\n",
    "for m in range(n_ensemble):\n",
    "\tNNs_deep.append(fn_make_NNd1(reg=reg, activation_in=activation_in))\n",
    "print(NNs_deep[-1].summary())"
   ]
  },
  {
   "cell_type": "code",
   "execution_count": 37,
   "metadata": {},
   "outputs": [
    {
     "name": "stdout",
     "output_type": "stream",
     "text": [
      "-- training: 1 of 10 NNs --\n",
      "-- training: 2 of 10 NNs --\n",
      "-- training: 3 of 10 NNs --\n",
      "-- training: 4 of 10 NNs --\n",
      "-- training: 5 of 10 NNs --\n",
      "-- training: 6 of 10 NNs --\n",
      "-- training: 7 of 10 NNs --\n",
      "-- training: 8 of 10 NNs --\n",
      "-- training: 9 of 10 NNs --\n",
      "-- training: 10 of 10 NNs --\n"
     ]
    }
   ],
   "source": [
    "# do training\n",
    "NNs_hist_train2=[]\n",
    "for m in range(n_ensemble):\n",
    "\tprint('-- training: ' + str(m+1) + ' of ' + str(n_ensemble) + ' NNs --')\n",
    "\thist = NNs_deep[m].fit(X_train, y_train,\n",
    "\t\t\t  #batch_size=n_data,\n",
    "\t\t\t  epochs=epochs,\n",
    "\t\t\t  verbose=0)\n",
    "\tNNs_hist_train2.append(hist.history['loss'])"
   ]
  },
  {
   "cell_type": "code",
   "execution_count": 38,
   "metadata": {},
   "outputs": [
    {
     "name": "stderr",
     "output_type": "stream",
     "text": [
      "/tmp/ipykernel_88563/3009257812.py:8: UserWarning: Matplotlib is currently using module://matplotlib_inline.backend_inline, which is a non-GUI backend, so cannot show the figure.\n",
      "  fig.show()\n"
     ]
    },
    {
     "data": {
      "image/png": "[encoded data removed]",
      "text/plain": [
       "<Figure size 400x300 with 1 Axes>"
      ]
     },
     "metadata": {},
     "output_type": "display_data"
    }
   ],
   "source": [
    "# check how training looked\n",
    "NNs_hist_train2=np.array(NNs_hist_train2)\n",
    "fig = plt.figure(figsize=(4, 3))\n",
    "ax = fig.add_subplot(111)\n",
    "COLORNUM = colors = plt.cm.plasma(np.linspace(0, 1, n_ensemble))\n",
    "for m in range(n_ensemble):\n",
    "    ax.plot(NNs_hist_train2[m], color=COLORNUM[m],label='train')\n",
    "fig.show()"
   ]
  },
  {
   "cell_type": "code",
   "execution_count": 39,
   "metadata": {},
   "outputs": [],
   "source": [
    "# run predictions\n",
    "y_preds2, y_preds_mu2, y_preds_std2 = fn_predict_ensemble(NNs_deep,X_test)"
   ]
  },
  {
   "cell_type": "code",
   "execution_count": null,
   "metadata": {},
   "outputs": [],
   "source": [
    "#Compare uncertainties in prediction\n",
    "compare = np.zeros(len(X_test))\n",
    "for i in np.arange(len(X_test)):\n",
    "    if (y_preds_std1[i]>y_preds_std2[i]):\n",
    "        compare[i] = 1"
   ]
  },
  {
   "cell_type": "code",
   "execution_count": 57,
   "metadata": {},
   "outputs": [
    {
     "name": "stdout",
     "output_type": "stream",
     "text": [
      "0.39825581395348836\n",
      "4128\n",
      "4128\n"
     ]
    }
   ],
   "source": [
    "frac = np.sum(compare)/len(X_test)\n",
    "print(frac)"
   ]
  },
  {
   "cell_type": "code",
   "execution_count": 60,
   "metadata": {},
   "outputs": [
    {
     "name": "stdout",
     "output_type": "stream",
     "text": [
      "Model: \"sequential_69\"\n",
      "_________________________________________________________________\n",
      " Layer (type)                Output Shape              Param #   \n",
      "=================================================================\n",
      " dense_285 (Dense)           (None, 50)                450       \n",
      "                                                                 \n",
      " dense_286 (Dense)           (None, 50)                2550      \n",
      "                                                                 \n",
      " dense_287 (Dense)           (None, 50)                2550      \n",
      "                                                                 \n",
      " dense_288 (Dense)           (None, 50)                2550      \n",
      "                                                                 \n",
      " dense_289 (Dense)           (None, 1)                 50        \n",
      "                                                                 \n",
      "=================================================================\n",
      "Total params: 8150 (31.84 KB)\n",
      "Trainable params: 8150 (31.84 KB)\n",
      "Non-trainable params: 0 (0.00 Byte)\n",
      "_________________________________________________________________\n",
      "None\n"
     ]
    }
   ],
   "source": [
    "#NN3\n",
    "NNs_deep2=[]\n",
    "for m in range(n_ensemble):\n",
    "\tNNs_deep2.append(fn_make_NNd2(reg=reg, activation_in=activation_in))\n",
    "print(NNs_deep2[-1].summary())"
   ]
  },
  {
   "cell_type": "code",
   "execution_count": 61,
   "metadata": {},
   "outputs": [
    {
     "name": "stdout",
     "output_type": "stream",
     "text": [
      "-- training: 1 of 10 NNs --\n",
      "-- training: 2 of 10 NNs --\n",
      "-- training: 3 of 10 NNs --\n",
      "-- training: 4 of 10 NNs --\n",
      "-- training: 5 of 10 NNs --\n",
      "-- training: 6 of 10 NNs --\n",
      "-- training: 7 of 10 NNs --\n",
      "-- training: 8 of 10 NNs --\n",
      "-- training: 9 of 10 NNs --\n",
      "-- training: 10 of 10 NNs --\n"
     ]
    }
   ],
   "source": [
    "# do training\n",
    "NNs_hist_train3=[]\n",
    "for m in range(n_ensemble):\n",
    "\tprint('-- training: ' + str(m+1) + ' of ' + str(n_ensemble) + ' NNs --')\n",
    "\thist = NNs_deep2[m].fit(X_train, y_train,\n",
    "\t\t\t  #batch_size=n_data,\n",
    "\t\t\t  epochs=epochs,\n",
    "\t\t\t  verbose=0)\n",
    "\tNNs_hist_train3.append(hist.history['loss'])"
   ]
  },
  {
   "cell_type": "code",
   "execution_count": 62,
   "metadata": {},
   "outputs": [
    {
     "name": "stderr",
     "output_type": "stream",
     "text": [
      "/tmp/ipykernel_88563/3141453724.py:8: UserWarning: Matplotlib is currently using module://matplotlib_inline.backend_inline, which is a non-GUI backend, so cannot show the figure.\n",
      "  fig.show()\n"
     ]
    },
    {
     "data": {
      "image/png": "[encoded data removed]",
      "text/plain": [
       "<Figure size 400x300 with 1 Axes>"
      ]
     },
     "metadata": {},
     "output_type": "display_data"
    }
   ],
   "source": [
    "# check how training looked\n",
    "NNs_hist_train3=np.array(NNs_hist_train3)\n",
    "fig = plt.figure(figsize=(4, 3))\n",
    "ax = fig.add_subplot(111)\n",
    "COLORNUM = colors = plt.cm.plasma(np.linspace(0, 1, n_ensemble))\n",
    "for m in range(n_ensemble):\n",
    "    ax.plot(NNs_hist_train3[m], color=COLORNUM[m],label='train')\n",
    "fig.show()"
   ]
  },
  {
   "cell_type": "code",
   "execution_count": 63,
   "metadata": {},
   "outputs": [],
   "source": [
    "y_preds3, y_preds_mu3, y_preds_std3 = fn_predict_ensemble(NNs_deep2,X_test)"
   ]
  },
  {
   "cell_type": "code",
   "execution_count": 73,
   "metadata": {},
   "outputs": [
    {
     "name": "stdout",
     "output_type": "stream",
     "text": [
      "0.35683139534883723\n"
     ]
    }
   ],
   "source": [
    "#Compare uncertainties in prediction\n",
    "compare2 = np.zeros(len(X_test))\n",
    "for i in np.arange(len(X_test)):\n",
    "    if (y_preds_std1[i]>y_preds_std3[i]):\n",
    "        compare2[i] = 1\n",
    "frac2 = np.sum(compare2)/len(X_test)\n",
    "print(frac2)"
   ]
  },
  {
   "cell_type": "code",
   "execution_count": 67,
   "metadata": {},
   "outputs": [
    {
     "name": "stdout",
     "output_type": "stream",
     "text": [
      "Model: \"sequential_89\"\n",
      "_________________________________________________________________\n",
      " Layer (type)                Output Shape              Param #   \n",
      "=================================================================\n",
      " dense_366 (Dense)           (None, 50)                450       \n",
      "                                                                 \n",
      " dense_367 (Dense)           (None, 50)                2550      \n",
      "                                                                 \n",
      " dense_368 (Dense)           (None, 50)                2550      \n",
      "                                                                 \n",
      " dense_369 (Dense)           (None, 1)                 50        \n",
      "                                                                 \n",
      "=================================================================\n",
      "Total params: 5600 (21.88 KB)\n",
      "Trainable params: 5600 (21.88 KB)\n",
      "Non-trainable params: 0 (0.00 Byte)\n",
      "_________________________________________________________________\n",
      "None\n"
     ]
    }
   ],
   "source": [
    "#NN4\n",
    "NNs_deep3=[]\n",
    "for m in range(n_ensemble):\n",
    "\tNNs_deep3.append(fn_make_NNd3(reg=reg, activation_in=activation_in))\n",
    "print(NNs_deep3[-1].summary())"
   ]
  },
  {
   "cell_type": "code",
   "execution_count": 68,
   "metadata": {},
   "outputs": [
    {
     "name": "stdout",
     "output_type": "stream",
     "text": [
      "-- training: 1 of 10 NNs --\n",
      "-- training: 2 of 10 NNs --\n",
      "-- training: 3 of 10 NNs --\n",
      "-- training: 4 of 10 NNs --\n",
      "-- training: 5 of 10 NNs --\n",
      "-- training: 6 of 10 NNs --\n",
      "-- training: 7 of 10 NNs --\n",
      "-- training: 8 of 10 NNs --\n",
      "-- training: 9 of 10 NNs --\n",
      "-- training: 10 of 10 NNs --\n"
     ]
    }
   ],
   "source": [
    "# do training\n",
    "NNs_hist_train4=[]\n",
    "for m in range(n_ensemble):\n",
    "\tprint('-- training: ' + str(m+1) + ' of ' + str(n_ensemble) + ' NNs --')\n",
    "\thist = NNs_deep3[m].fit(X_train, y_train,\n",
    "\t\t\t  #batch_size=n_data,\n",
    "\t\t\t  epochs=epochs,\n",
    "\t\t\t  verbose=0)\n",
    "\tNNs_hist_train4.append(hist.history['loss'])"
   ]
  },
  {
   "cell_type": "code",
   "execution_count": 69,
   "metadata": {},
   "outputs": [
    {
     "name": "stderr",
     "output_type": "stream",
     "text": [
      "/tmp/ipykernel_88563/3141453724.py:8: UserWarning: Matplotlib is currently using module://matplotlib_inline.backend_inline, which is a non-GUI backend, so cannot show the figure.\n",
      "  fig.show()\n"
     ]
    },
    {
     "data": {
      "image/png": "[encoded data removed]",
      "text/plain": [
       "<Figure size 400x300 with 1 Axes>"
      ]
     },
     "metadata": {},
     "output_type": "display_data"
    }
   ],
   "source": [
    "# check how training looked\n",
    "NNs_hist_train3=np.array(NNs_hist_train3)\n",
    "fig = plt.figure(figsize=(4, 3))\n",
    "ax = fig.add_subplot(111)\n",
    "COLORNUM = colors = plt.cm.plasma(np.linspace(0, 1, n_ensemble))\n",
    "for m in range(n_ensemble):\n",
    "    ax.plot(NNs_hist_train3[m], color=COLORNUM[m],label='train')\n",
    "fig.show()"
   ]
  },
  {
   "cell_type": "code",
   "execution_count": 70,
   "metadata": {},
   "outputs": [],
   "source": [
    "#prediction\n",
    "y_preds4, y_preds_mu4, y_preds_std4 = fn_predict_ensemble(NNs_deep3,X_test)"
   ]
  },
  {
   "cell_type": "code",
   "execution_count": 72,
   "metadata": {},
   "outputs": [
    {
     "name": "stdout",
     "output_type": "stream",
     "text": [
      "0.38856589147286824\n"
     ]
    }
   ],
   "source": [
    "#Compare uncertainties in prediction\n",
    "compare3 = np.zeros(len(X_test))\n",
    "for i in np.arange(len(X_test)):\n",
    "    if (y_preds_std1[i]>y_preds_std4[i]):\n",
    "        compare3[i] = 1\n",
    "frac3 = np.sum(compare3)/len(X_test)\n",
    "print(frac3)"
   ]
  },
  {
   "cell_type": "code",
   "execution_count": null,
   "metadata": {},
   "outputs": [],
   "source": []
  }
 ],
 "metadata": {
  "kernelspec": {
   "display_name": "base",
   "language": "python",
   "name": "python3"
  },
  "language_info": {
   "codemirror_mode": {
    "name": "ipython",
    "version": 3
   },
   "file_extension": ".py",
   "mimetype": "text/x-python",
   "name": "python",
   "nbconvert_exporter": "python",
   "pygments_lexer": "ipython3",
   "version": "3.11.4"
  }
 },
 "nbformat": 4,
 "nbformat_minor": 2
}
